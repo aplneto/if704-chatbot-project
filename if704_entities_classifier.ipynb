{
  "nbformat": 4,
  "nbformat_minor": 0,
  "metadata": {
    "colab": {
      "name": "if704_entities_classifier.ipynb",
      "provenance": [],
      "collapsed_sections": [],
      "authorship_tag": "ABX9TyNNMV2rXQEdSGDglO9gLskV",
      "include_colab_link": true
    },
    "kernelspec": {
      "name": "python3",
      "display_name": "Python 3"
    },
    "language_info": {
      "name": "python"
    }
  },
  "cells": [
    {
      "cell_type": "markdown",
      "metadata": {
        "id": "view-in-github",
        "colab_type": "text"
      },
      "source": [
        "<a href=\"https://colab.research.google.com/github/aplneto/if704-chatbot-project/blob/main/if704_entities_classifier.ipynb\" target=\"_parent\"><img src=\"https://colab.research.google.com/assets/colab-badge.svg\" alt=\"Open In Colab\"/></a>"
      ]
    },
    {
      "cell_type": "markdown",
      "metadata": {
        "id": "Mb_H6wA3uGBG"
      },
      "source": [
        "# Dataset\n",
        "\n",
        "<!-- https://github.com/Tekraj15/Named-Entity-Recognition-Using-LSTM-Keras/blob/master/NER.ipynb\n",
        "https://towardsdatascience.com/named-entity-recognition-ner-using-keras-bidirectional-lstm-28cd3f301f54 -->"
      ]
    },
    {
      "cell_type": "code",
      "metadata": {
        "id": "NV_R-2Eat-Ph"
      },
      "source": [
        "import pandas as pd"
      ],
      "execution_count": 1,
      "outputs": []
    },
    {
      "cell_type": "code",
      "metadata": {
        "colab": {
          "base_uri": "https://localhost:8080/",
          "height": 238
        },
        "id": "qiCkIC9SuYBG",
        "outputId": "3af756d7-3acf-4286-d9b8-5cd4ebe8b5c8"
      },
      "source": [
        "TRAIN_DATASET = 'https://raw.githubusercontent.com/awslabs/\\\n",
        "multi-domain-goal-oriented-dialogues-dataset/master/data/paper_splits/\\\n",
        "splits_annotated_at_sentence_level/insurance/train.tsv'\n",
        "\n",
        "TEST_DATASET = 'https://raw.githubusercontent.com/awslabs/\\\n",
        "multi-domain-goal-oriented-dialogues-dataset/master/data/paper_splits/\\\n",
        "splits_annotated_at_sentence_level/insurance/test.tsv'\n",
        "\n",
        "DEV_DATASET = 'https://raw.githubusercontent.com/awslabs/\\\n",
        "multi-domain-goal-oriented-dialogues-dataset/master/data/paper_splits/\\\n",
        "splits_annotated_at_sentence_level/insurance/dev.tsv'\n",
        "\n",
        "train_dataset = pd.read_csv(TRAIN_DATASET, sep='\\t')\n",
        "print(len(train_dataset))\n",
        "train_dataset = train_dataset.append(pd.read_csv(TEST_DATASET, sep='\\t'))\n",
        "print(len(train_dataset))\n",
        "train_dataset = train_dataset.append(pd.read_csv(DEV_DATASET, sep='\\t'))\n",
        "\n",
        "train_dataset.head()"
      ],
      "execution_count": 2,
      "outputs": [
        {
          "output_type": "stream",
          "text": [
            "14498\n",
            "18605\n"
          ],
          "name": "stdout"
        },
        {
          "output_type": "execute_result",
          "data": {
            "text/html": [
              "<div>\n",
              "<style scoped>\n",
              "    .dataframe tbody tr th:only-of-type {\n",
              "        vertical-align: middle;\n",
              "    }\n",
              "\n",
              "    .dataframe tbody tr th {\n",
              "        vertical-align: top;\n",
              "    }\n",
              "\n",
              "    .dataframe thead th {\n",
              "        text-align: right;\n",
              "    }\n",
              "</style>\n",
              "<table border=\"1\" class=\"dataframe\">\n",
              "  <thead>\n",
              "    <tr style=\"text-align: right;\">\n",
              "      <th></th>\n",
              "      <th>conversationId</th>\n",
              "      <th>turnNumber</th>\n",
              "      <th>sentenceNumber</th>\n",
              "      <th>utteranceId</th>\n",
              "      <th>utterance</th>\n",
              "      <th>slot-labels</th>\n",
              "      <th>intent</th>\n",
              "    </tr>\n",
              "  </thead>\n",
              "  <tbody>\n",
              "    <tr>\n",
              "      <th>0</th>\n",
              "      <td>b668a007-9e23-4e4f-8943-e3000cf27efe</td>\n",
              "      <td>1</td>\n",
              "      <td>0</td>\n",
              "      <td>&lt;CONV&gt;b668a007-9e23-4e4f-8943-e3000cf27efe&lt;TUR...</td>\n",
              "      <td>good evening sir</td>\n",
              "      <td>O O O</td>\n",
              "      <td>openinggreeting</td>\n",
              "    </tr>\n",
              "    <tr>\n",
              "      <th>1</th>\n",
              "      <td>b668a007-9e23-4e4f-8943-e3000cf27efe</td>\n",
              "      <td>1</td>\n",
              "      <td>1</td>\n",
              "      <td>&lt;CONV&gt;b668a007-9e23-4e4f-8943-e3000cf27efe&lt;TUR...</td>\n",
              "      <td>i need your help</td>\n",
              "      <td>O O O O</td>\n",
              "      <td>outofdomain</td>\n",
              "    </tr>\n",
              "    <tr>\n",
              "      <th>2</th>\n",
              "      <td>b668a007-9e23-4e4f-8943-e3000cf27efe</td>\n",
              "      <td>3</td>\n",
              "      <td>0</td>\n",
              "      <td>&lt;CONV&gt;b668a007-9e23-4e4f-8943-e3000cf27efe&lt;TUR...</td>\n",
              "      <td>4523</td>\n",
              "      <td>ssn</td>\n",
              "      <td>contentonly</td>\n",
              "    </tr>\n",
              "    <tr>\n",
              "      <th>3</th>\n",
              "      <td>b668a007-9e23-4e4f-8943-e3000cf27efe</td>\n",
              "      <td>4</td>\n",
              "      <td>0</td>\n",
              "      <td>&lt;CONV&gt;b668a007-9e23-4e4f-8943-e3000cf27efe&lt;TUR...</td>\n",
              "      <td>tamilarasi k</td>\n",
              "      <td>name name</td>\n",
              "      <td>contentonly</td>\n",
              "    </tr>\n",
              "    <tr>\n",
              "      <th>4</th>\n",
              "      <td>b668a007-9e23-4e4f-8943-e3000cf27efe</td>\n",
              "      <td>6</td>\n",
              "      <td>0</td>\n",
              "      <td>&lt;CONV&gt;b668a007-9e23-4e4f-8943-e3000cf27efe&lt;TUR...</td>\n",
              "      <td>honda city</td>\n",
              "      <td>car_brand O</td>\n",
              "      <td>contentonly</td>\n",
              "    </tr>\n",
              "  </tbody>\n",
              "</table>\n",
              "</div>"
            ],
            "text/plain": [
              "                         conversationId  ...           intent\n",
              "0  b668a007-9e23-4e4f-8943-e3000cf27efe  ...  openinggreeting\n",
              "1  b668a007-9e23-4e4f-8943-e3000cf27efe  ...      outofdomain\n",
              "2  b668a007-9e23-4e4f-8943-e3000cf27efe  ...      contentonly\n",
              "3  b668a007-9e23-4e4f-8943-e3000cf27efe  ...      contentonly\n",
              "4  b668a007-9e23-4e4f-8943-e3000cf27efe  ...      contentonly\n",
              "\n",
              "[5 rows x 7 columns]"
            ]
          },
          "metadata": {},
          "execution_count": 2
        }
      ]
    },
    {
      "cell_type": "code",
      "metadata": {
        "id": "7WmuLexmnvc8"
      },
      "source": [
        "no_entities = train_dataset[train_dataset['slot-labels'].str.match('^(O\\s?)+$')]\n",
        "train_dataset.drop(no_entities.index, inplace=True)\n",
        "train_dataset = train_dataset.append(no_entities.sample(frac=0.1))"
      ],
      "execution_count": 3,
      "outputs": []
    },
    {
      "cell_type": "code",
      "metadata": {
        "colab": {
          "base_uri": "https://localhost:8080/",
          "height": 204
        },
        "id": "Uqz_bN_BrNHn",
        "outputId": "5ab1114c-6087-4ea5-bea2-37e4e7cca1ee"
      },
      "source": [
        "train_dataset.head()"
      ],
      "execution_count": 4,
      "outputs": [
        {
          "output_type": "execute_result",
          "data": {
            "text/html": [
              "<div>\n",
              "<style scoped>\n",
              "    .dataframe tbody tr th:only-of-type {\n",
              "        vertical-align: middle;\n",
              "    }\n",
              "\n",
              "    .dataframe tbody tr th {\n",
              "        vertical-align: top;\n",
              "    }\n",
              "\n",
              "    .dataframe thead th {\n",
              "        text-align: right;\n",
              "    }\n",
              "</style>\n",
              "<table border=\"1\" class=\"dataframe\">\n",
              "  <thead>\n",
              "    <tr style=\"text-align: right;\">\n",
              "      <th></th>\n",
              "      <th>conversationId</th>\n",
              "      <th>turnNumber</th>\n",
              "      <th>sentenceNumber</th>\n",
              "      <th>utteranceId</th>\n",
              "      <th>utterance</th>\n",
              "      <th>slot-labels</th>\n",
              "      <th>intent</th>\n",
              "    </tr>\n",
              "  </thead>\n",
              "  <tbody>\n",
              "    <tr>\n",
              "      <th>2</th>\n",
              "      <td>b668a007-9e23-4e4f-8943-e3000cf27efe</td>\n",
              "      <td>3</td>\n",
              "      <td>0</td>\n",
              "      <td>&lt;CONV&gt;b668a007-9e23-4e4f-8943-e3000cf27efe&lt;TUR...</td>\n",
              "      <td>4523</td>\n",
              "      <td>ssn</td>\n",
              "      <td>contentonly</td>\n",
              "    </tr>\n",
              "    <tr>\n",
              "      <th>45</th>\n",
              "      <td>b43fdf21-fc2b-404b-9b17-f0cd61124cbe</td>\n",
              "      <td>11</td>\n",
              "      <td>0</td>\n",
              "      <td>&lt;CONV&gt;b43fdf21-fc2b-404b-9b17-f0cd61124cbe&lt;TUR...</td>\n",
              "      <td>amala raghav</td>\n",
              "      <td>name name</td>\n",
              "      <td>contentonly</td>\n",
              "    </tr>\n",
              "    <tr>\n",
              "      <th>55</th>\n",
              "      <td>220c5784-6f5e-48c3-9ea4-04296e7aa10a</td>\n",
              "      <td>10</td>\n",
              "      <td>0</td>\n",
              "      <td>&lt;CONV&gt;220c5784-6f5e-48c3-9ea4-04296e7aa10a&lt;TUR...</td>\n",
              "      <td>2014</td>\n",
              "      <td>car_year</td>\n",
              "      <td>contentonly</td>\n",
              "    </tr>\n",
              "    <tr>\n",
              "      <th>74</th>\n",
              "      <td>63ffd147-c490-4393-9eaa-78fce15db1d0</td>\n",
              "      <td>6</td>\n",
              "      <td>0</td>\n",
              "      <td>&lt;CONV&gt;63ffd147-c490-4393-9eaa-78fce15db1d0&lt;TUR...</td>\n",
              "      <td>9845264515</td>\n",
              "      <td>phone_number</td>\n",
              "      <td>contentonly</td>\n",
              "    </tr>\n",
              "    <tr>\n",
              "      <th>75</th>\n",
              "      <td>63ffd147-c490-4393-9eaa-78fce15db1d0</td>\n",
              "      <td>8</td>\n",
              "      <td>0</td>\n",
              "      <td>&lt;CONV&gt;63ffd147-c490-4393-9eaa-78fce15db1d0&lt;TUR...</td>\n",
              "      <td>mikekank 759 gmailcom</td>\n",
              "      <td>email_address email_address email_address</td>\n",
              "      <td>contentonly</td>\n",
              "    </tr>\n",
              "  </tbody>\n",
              "</table>\n",
              "</div>"
            ],
            "text/plain": [
              "                          conversationId  ...       intent\n",
              "2   b668a007-9e23-4e4f-8943-e3000cf27efe  ...  contentonly\n",
              "45  b43fdf21-fc2b-404b-9b17-f0cd61124cbe  ...  contentonly\n",
              "55  220c5784-6f5e-48c3-9ea4-04296e7aa10a  ...  contentonly\n",
              "74  63ffd147-c490-4393-9eaa-78fce15db1d0  ...  contentonly\n",
              "75  63ffd147-c490-4393-9eaa-78fce15db1d0  ...  contentonly\n",
              "\n",
              "[5 rows x 7 columns]"
            ]
          },
          "metadata": {},
          "execution_count": 4
        }
      ]
    },
    {
      "cell_type": "code",
      "metadata": {
        "id": "KIQVZqw-vttA"
      },
      "source": [
        "import numpy as np\n",
        "from itertools import chain"
      ],
      "execution_count": 5,
      "outputs": []
    },
    {
      "cell_type": "code",
      "metadata": {
        "id": "88FycLkavHg2"
      },
      "source": [
        "x = list(train_dataset['utterance'])\n",
        "for i, sentence in enumerate(x):\n",
        "  if isinstance(sentence, float):\n",
        "    x[i] = ''\n",
        "\n",
        "y = train_dataset['slot-labels'].transform(lambda x: x.split(' '))\n",
        "\n",
        "assert len(x) == len(y)\n",
        "\n",
        "word_labels = list(np.unique([*chain.from_iterable(y)]))\n",
        "num_tags = len(word_labels)"
      ],
      "execution_count": 6,
      "outputs": []
    },
    {
      "cell_type": "code",
      "metadata": {
        "id": "ACkbbe5P4E0D"
      },
      "source": [
        "from sklearn.preprocessing import OneHotEncoder, LabelEncoder\n",
        "from tensorflow.keras.preprocessing.sequence import pad_sequences\n",
        "from sklearn.model_selection import train_test_split\n",
        "from tensorflow.keras.preprocessing.text import Tokenizer"
      ],
      "execution_count": 7,
      "outputs": []
    },
    {
      "cell_type": "code",
      "metadata": {
        "id": "06R7BpIV4Ipd"
      },
      "source": [
        "num_tokens = len(x)\n",
        "biggest_sentence = max(x, key=lambda x: x.split(' ').__len__())\n",
        "max_len = len(biggest_sentence.split(' '))\n",
        "\n",
        "labels_y = y.map(lambda x: [word_labels.index(u) for u in x])\n",
        "labels_y = pad_sequences(\n",
        "    labels_y, maxlen=max_len, padding='post', value=word_labels.index('O')\n",
        ")\n",
        "train_x, test_x, train_y, test_y = train_test_split(x, labels_y, test_size=0.3)\n",
        "\n",
        "tokenizer = Tokenizer(oov_token=\"<unk>\")\n",
        "tokenizer.fit_on_texts(train_x)\n",
        "\n",
        "\n",
        "train_sequences = tokenizer.texts_to_sequences(train_x)\n",
        "train_sequences = pad_sequences(\n",
        "    train_sequences, maxlen=max_len, padding='post'\n",
        ")\n",
        "\n",
        "test_sequences = tokenizer.texts_to_sequences(test_x)\n",
        "test_sequences = pad_sequences(\n",
        "    test_sequences, maxlen=max_len, padding='post'\n",
        ")"
      ],
      "execution_count": 8,
      "outputs": []
    },
    {
      "cell_type": "code",
      "metadata": {
        "id": "sdEr5-knC0-I"
      },
      "source": [
        "import spacy"
      ],
      "execution_count": 9,
      "outputs": []
    },
    {
      "cell_type": "code",
      "metadata": {
        "id": "GCcd9vq9QEje"
      },
      "source": [
        "nlp = spacy.load('en_core_web_sm')\n",
        "\n",
        "vocab = [''] + list(tokenizer.word_index.keys())\n",
        "num_tokens = len(vocab)\n",
        "vec_dim = len(nlp('the').vector)\n",
        "\n",
        "embedding_table = np.zeros((num_tokens, vec_dim))\n",
        "\n",
        "\n",
        "for i, word in enumerate(vocab[1:]):\n",
        "  embedding_table[i+1] = nlp(word).vector"
      ],
      "execution_count": 10,
      "outputs": []
    },
    {
      "cell_type": "code",
      "metadata": {
        "id": "l9c3wG6uQL2V"
      },
      "source": [
        "from tensorflow.keras.layers import Bidirectional, Dense, Embedding, LSTM, \\\n",
        "TimeDistributed, SpatialDropout1D, Flatten\n",
        "from tensorflow.keras.initializers import Constant\n",
        "from tensorflow.keras.models import Sequential"
      ],
      "execution_count": 11,
      "outputs": []
    },
    {
      "cell_type": "code",
      "metadata": {
        "colab": {
          "base_uri": "https://localhost:8080/"
        },
        "id": "3VwKxzDNVGWq",
        "outputId": "a2e8ff6d-05aa-47b9-8839-a7b0d84f1977"
      },
      "source": [
        "model = Sequential()\n",
        "model.add(\n",
        "    Embedding(num_tokens, vec_dim, Constant(embedding_table), trainable=False),\n",
        ")\n",
        "model.add(SpatialDropout1D(0.1))\n",
        "model.add(\n",
        "    Bidirectional(\n",
        "        LSTM(100, return_sequences=True, recurrent_dropout=0.1)\n",
        "    )\n",
        ")\n",
        "model.add(\n",
        "    TimeDistributed(\n",
        "        Dense(num_tags, activation='softmax')\n",
        "    )\n",
        ")\n",
        "\n",
        "model.summary()"
      ],
      "execution_count": 34,
      "outputs": [
        {
          "output_type": "stream",
          "text": [
            "Model: \"sequential_1\"\n",
            "_________________________________________________________________\n",
            "Layer (type)                 Output Shape              Param #   \n",
            "=================================================================\n",
            "embedding_1 (Embedding)      (None, None, 96)          323040    \n",
            "_________________________________________________________________\n",
            "spatial_dropout1d_1 (Spatial (None, None, 96)          0         \n",
            "_________________________________________________________________\n",
            "bidirectional_1 (Bidirection (None, None, 200)         157600    \n",
            "_________________________________________________________________\n",
            "time_distributed_1 (TimeDist (None, None, 10)          2010      \n",
            "=================================================================\n",
            "Total params: 482,650\n",
            "Trainable params: 159,610\n",
            "Non-trainable params: 323,040\n",
            "_________________________________________________________________\n"
          ],
          "name": "stdout"
        }
      ]
    },
    {
      "cell_type": "code",
      "metadata": {
        "id": "CVX7tvL0Xros"
      },
      "source": [
        "model.compile(\n",
        "    optimizer='adam',\n",
        "    loss='sparse_categorical_crossentropy',\n",
        "    metrics=['accuracy']\n",
        ")"
      ],
      "execution_count": 35,
      "outputs": []
    },
    {
      "cell_type": "code",
      "metadata": {
        "id": "0OPYGDBHYPvP"
      },
      "source": [
        "from tensorflow.keras.callbacks import EarlyStopping"
      ],
      "execution_count": 36,
      "outputs": []
    },
    {
      "cell_type": "code",
      "metadata": {
        "colab": {
          "base_uri": "https://localhost:8080/"
        },
        "id": "TCEco3Z0X4s0",
        "outputId": "698163b9-9bbe-4df2-d567-4eb1bedb60a7"
      },
      "source": [
        "history = model.fit(\n",
        "    train_sequences, train_y, batch_size=32, epochs=1,\n",
        "    callbacks=[EarlyStopping(patience=3, min_delta=0.01)],\n",
        "    validation_data=[test_sequences, test_y]\n",
        ")"
      ],
      "execution_count": 37,
      "outputs": [
        {
          "output_type": "stream",
          "text": [
            "133/133 [==============================] - 16s 86ms/step - loss: 0.2717 - accuracy: 0.9490 - val_loss: 0.0000e+00 - val_accuracy: 0.0000e+00\n"
          ],
          "name": "stdout"
        }
      ]
    },
    {
      "cell_type": "code",
      "metadata": {
        "id": "1vTonrhoRyTL"
      },
      "source": [
        "import matplotlib.pyplot as plt\n",
        "%matplotlib inline"
      ],
      "execution_count": 38,
      "outputs": []
    },
    {
      "cell_type": "code",
      "metadata": {
        "colab": {
          "base_uri": "https://localhost:8080/",
          "height": 297
        },
        "id": "1HSb3KPPuFlK",
        "outputId": "ef223a69-c473-4f42-e4bd-2054c57da0b2"
      },
      "source": [
        "plt.plot(history.history['accuracy'])\n",
        "plt.plot(history.history['loss'])\n",
        "plt.title(\"Gráfico do modelo\")\n",
        "plt.xlabel('Épocas')\n",
        "plt.legend(['Acurácia', 'Perda'], loc='upper left')\n",
        "plt.show()"
      ],
      "execution_count": 39,
      "outputs": [
        {
          "output_type": "display_data",
          "data": {
            "image/png": "[encoded data removed]",
            "text/plain": [
              "<Figure size 432x288 with 1 Axes>"
            ]
          },
          "metadata": {
            "needs_background": "light"
          }
        }
      ]
    },
    {
      "cell_type": "code",
      "metadata": {
        "colab": {
          "base_uri": "https://localhost:8080/"
        },
        "id": "H0uE7fJHkEb5",
        "outputId": "4791625c-c969-400d-8e5d-5006abf3a28d"
      },
      "source": [
        "model.evaluate(test_sequences, test_y)"
      ],
      "execution_count": 40,
      "outputs": [
        {
          "output_type": "stream",
          "text": [
            "57/57 [==============================] - 1s 14ms/step - loss: 0.1399 - accuracy: 0.9657\n"
          ],
          "name": "stdout"
        },
        {
          "output_type": "execute_result",
          "data": {
            "text/plain": [
              "[0.13987642526626587, 0.9657284617424011]"
            ]
          },
          "metadata": {},
          "execution_count": 40
        }
      ]
    },
    {
      "cell_type": "code",
      "metadata": {
        "colab": {
          "base_uri": "https://localhost:8080/"
        },
        "id": "lhTXIxvgi3Ss",
        "outputId": "b21563cf-50ec-47ac-f9de-bf233d7d09f4"
      },
      "source": [
        "i = np.random.randint(0, test_sequences.shape[0])\n",
        "p = model.predict(np.array([test_sequences[i]]))\n",
        "p = np.argmax(p, -1)\n",
        "y_true = test_y[i]\n",
        "print(\"{:15}{:5}\\t {}\\n\".format(\"Word\", \"True\", \"Pred\"))\n",
        "print(\"-\" *30)\n",
        "for w, true, pred in zip(test_sequences[i], y_true, p[0]):\n",
        "  print(\"{:15}{}\\t{}\".format(vocab[w], word_labels[true], word_labels[pred]))"
      ],
      "execution_count": 53,
      "outputs": [
        {
          "output_type": "stream",
          "text": [
            "Word           True \t Pred\n",
            "\n",
            "------------------------------\n",
            "hi             O\tO\n",
            "               O\tO\n",
            "               O\tO\n",
            "               O\tO\n",
            "               O\tO\n",
            "               O\tO\n",
            "               O\tO\n",
            "               O\tO\n",
            "               O\tO\n",
            "               O\tO\n",
            "               O\tO\n",
            "               O\tO\n",
            "               O\tO\n",
            "               O\tO\n",
            "               O\tO\n",
            "               O\tO\n",
            "               O\tO\n",
            "               O\tO\n",
            "               O\tO\n",
            "               O\tO\n"
          ],
          "name": "stdout"
        }
      ]
    },
    {
      "cell_type": "code",
      "metadata": {
        "colab": {
          "base_uri": "https://localhost:8080/"
        },
        "id": "8yFdMMxnV4K0",
        "outputId": "c65351e0-235f-4ae0-b8fb-24de87585305"
      },
      "source": [
        "sentence = 'asd 321'\n",
        "sequence = tokenizer.texts_to_sequences([sentence])\n",
        "sequence = pad_sequences(sequence, max_len, padding='post')\n",
        "p = model.predict(sequence)\n",
        "p = np.argmax(p, -1)\n",
        "print(\"{:15}{:5}\\t {}\\n\".format(\"Word\", \"True\", \"Pred\"))\n",
        "print(\"-\" *30)\n",
        "for x, y in zip(sequence[0], p[0]):\n",
        "  print(\"{}\\t{}\".format(vocab[x], word_labels[y]))"
      ],
      "execution_count": 68,
      "outputs": [
        {
          "output_type": "stream",
          "text": [
            "Word           True \t Pred\n",
            "\n",
            "------------------------------\n",
            "asd\tclaimid\n",
            "321\tclaimid\n",
            "\tO\n",
            "\tO\n",
            "\tO\n",
            "\tO\n",
            "\tO\n",
            "\tO\n",
            "\tO\n",
            "\tO\n",
            "\tO\n",
            "\tO\n",
            "\tO\n",
            "\tO\n",
            "\tO\n",
            "\tO\n",
            "\tO\n",
            "\tO\n",
            "\tO\n",
            "\tO\n"
          ],
          "name": "stdout"
        }
      ]
    },
    {
      "cell_type": "code",
      "metadata": {
        "colab": {
          "base_uri": "https://localhost:8080/"
        },
        "id": "cDAt4H5rXBCB",
        "outputId": "3ee02373-7162-496f-cc38-fe057b368298"
      },
      "source": [
        "sequence"
      ],
      "execution_count": 43,
      "outputs": [
        {
          "output_type": "execute_result",
          "data": {
            "text/plain": [
              "array([[ 3, 16,  2,  1,  0,  0,  0,  0,  0,  0,  0,  0,  0,  0,  0,  0,\n",
              "         0,  0,  0,  0]], dtype=int32)"
            ]
          },
          "metadata": {},
          "execution_count": 43
        }
      ]
    },
    {
      "cell_type": "code",
      "metadata": {
        "id": "Kznc-hykttsh"
      },
      "source": [
        "class EntityClassifier():\n",
        "  def __init__(self, tags, model, **kwargs):\n",
        "    self.__tags = tags\n",
        "    self.__classifier = model\n",
        "    self.__tokenizer = kwargs.get('tokenizer')\n",
        "    self.__vocab = list(self.__tokenizer.word_index.keys())\n",
        "    self.__max_len = kwargs.get('max_len', 28)\n",
        "  \n",
        "  def __call__(self, message):\n",
        "    sequence = self.__tokenizer.texts_to_sequences([message])\n",
        "    p = self.__classifier.predict(sequence)\n",
        "    p = np.argmax(p, -1)\n",
        "    entities = []\n",
        "    for x, y in zip(sequence[0], p[0]):\n",
        "      if x == 0: break\n",
        "      pair = (self.__vocab[x-1], self.__tags[y])\n",
        "      entities.append(pair)\n",
        "    return entities"
      ],
      "execution_count": 44,
      "outputs": []
    },
    {
      "cell_type": "code",
      "metadata": {
        "id": "Fwu_iyVfwOGQ"
      },
      "source": [
        "import datetime\n",
        "import pickle\n",
        "import os\n",
        "import pytz\n",
        "from google.colab import drive"
      ],
      "execution_count": 45,
      "outputs": []
    },
    {
      "cell_type": "code",
      "metadata": {
        "colab": {
          "base_uri": "https://localhost:8080/"
        },
        "id": "wBgCfVw5ORAh",
        "outputId": "4a302e58-43ad-444e-d61e-8fec378fd058"
      },
      "source": [
        "drive.mount('/content/drive')"
      ],
      "execution_count": 46,
      "outputs": [
        {
          "output_type": "stream",
          "text": [
            "Drive already mounted at /content/drive; to attempt to forcibly remount, call drive.mount(\"/content/drive\", force_remount=True).\n"
          ],
          "name": "stdout"
        }
      ]
    },
    {
      "cell_type": "code",
      "metadata": {
        "colab": {
          "base_uri": "https://localhost:8080/"
        },
        "id": "QMGkYQ5Hz_YW",
        "outputId": "051a828c-88e2-47d2-d83f-5a0d55b3156d"
      },
      "source": [
        "proj_directory = '/content/drive/MyDrive/chatbot/'\n",
        "if not os.path.exists(proj_directory):\n",
        "  os.mkdir(proj_directory)\n",
        "\n",
        "model_file = proj_directory + 'entity_classifier'\n",
        "tokenizer_file = proj_directory + 'tokenizer_entity.pickle'\n",
        "tags_file = proj_directory + 'tags.pickle'\n",
        "label_encoder_file = proj_directory + 'label_encoder_entities.pickle'\n",
        "\n",
        "model.save(model_file)\n",
        "with open(tokenizer_file, 'wb') as _file:\n",
        "  pickle.dump(tokenizer, _file)\n",
        "\n",
        "with open(tags_file, 'wb') as _file:\n",
        "  pickle.dump(word_labels, _file)\n",
        "\n",
        "timestamp = datetime.datetime.now(pytz.timezone('America/Recife'))\n",
        "print(\"Last compiled time:\", timestamp)"
      ],
      "execution_count": 47,
      "outputs": [
        {
          "output_type": "stream",
          "text": [
            "INFO:tensorflow:Assets written to: /content/drive/MyDrive/chatbot/entity_classifier/assets\n",
            "Last compiled time: 2021-08-22 16:51:12.698847-03:00\n"
          ],
          "name": "stdout"
        }
      ]
    }
  ]
}