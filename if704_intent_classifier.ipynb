{
  "nbformat": 4,
  "nbformat_minor": 0,
  "metadata": {
    "colab": {
      "name": "if704_intent_classifier.ipynb",
      "provenance": [],
      "collapsed_sections": [],
      "authorship_tag": "ABX9TyM8MunUczAdjJNFRXu/Uq5B",
      "include_colab_link": true
    },
    "kernelspec": {
      "name": "python3",
      "display_name": "Python 3"
    },
    "language_info": {
      "name": "python"
    }
  },
  "cells": [
    {
      "cell_type": "markdown",
      "metadata": {
        "id": "view-in-github",
        "colab_type": "text"
      },
      "source": [
        "<a href=\"https://colab.research.google.com/github/aplneto/if704-chatbot-project/blob/main/if704_intent_classifier.ipynb\" target=\"_parent\"><img src=\"https://colab.research.google.com/assets/colab-badge.svg\" alt=\"Open In Colab\"/></a>"
      ]
    },
    {
      "cell_type": "markdown",
      "metadata": {
        "id": "LLBnn8e4L9ow"
      },
      "source": [
        "# Processamento dos dados\n",
        "\n",
        "<!-- https://github.com/awslabs/multi-domain-goal-oriented-dialogues-dataset -->"
      ]
    },
    {
      "cell_type": "code",
      "metadata": {
        "id": "Kr0HdjgYmN1V"
      },
      "source": [
        "import numpy as np\n",
        "import pandas as pd"
      ],
      "execution_count": 1,
      "outputs": []
    },
    {
      "cell_type": "code",
      "metadata": {
        "colab": {
          "base_uri": "https://localhost:8080/",
          "height": 238
        },
        "id": "Hjm0jqUyTGzW",
        "outputId": "ff8d753b-ea1f-404c-e93f-95fefe3da767"
      },
      "source": [
        "TRAIN_DATASET = 'https://raw.githubusercontent.com/awslabs/\\\n",
        "multi-domain-goal-oriented-dialogues-dataset/master/data/paper_splits/\\\n",
        "splits_annotated_at_sentence_level/insurance/train.tsv'\n",
        "\n",
        "TEST_DATASET = 'https://raw.githubusercontent.com/awslabs/\\\n",
        "multi-domain-goal-oriented-dialogues-dataset/master/data/paper_splits/\\\n",
        "splits_annotated_at_sentence_level/insurance/test.tsv'\n",
        "\n",
        "DEV_DATASET = 'https://raw.githubusercontent.com/awslabs/\\\n",
        "multi-domain-goal-oriented-dialogues-dataset/master/data/paper_splits/\\\n",
        "splits_annotated_at_sentence_level/insurance/dev.tsv'\n",
        "\n",
        "train_dataset = pd.read_csv(TRAIN_DATASET, sep='\\t')\n",
        "print(len(train_dataset))\n",
        "train_dataset = train_dataset.append(pd.read_csv(TEST_DATASET, sep='\\t'))\n",
        "print(len(train_dataset))\n",
        "train_dataset = train_dataset.append(pd.read_csv(DEV_DATASET, sep='\\t'))\n",
        "\n",
        "train_dataset.head()"
      ],
      "execution_count": 2,
      "outputs": [
        {
          "output_type": "stream",
          "text": [
            "14498\n",
            "18605\n"
          ],
          "name": "stdout"
        },
        {
          "output_type": "execute_result",
          "data": {
            "text/html": [
              "<div>\n",
              "<style scoped>\n",
              "    .dataframe tbody tr th:only-of-type {\n",
              "        vertical-align: middle;\n",
              "    }\n",
              "\n",
              "    .dataframe tbody tr th {\n",
              "        vertical-align: top;\n",
              "    }\n",
              "\n",
              "    .dataframe thead th {\n",
              "        text-align: right;\n",
              "    }\n",
              "</style>\n",
              "<table border=\"1\" class=\"dataframe\">\n",
              "  <thead>\n",
              "    <tr style=\"text-align: right;\">\n",
              "      <th></th>\n",
              "      <th>conversationId</th>\n",
              "      <th>turnNumber</th>\n",
              "      <th>sentenceNumber</th>\n",
              "      <th>utteranceId</th>\n",
              "      <th>utterance</th>\n",
              "      <th>slot-labels</th>\n",
              "      <th>intent</th>\n",
              "    </tr>\n",
              "  </thead>\n",
              "  <tbody>\n",
              "    <tr>\n",
              "      <th>0</th>\n",
              "      <td>b668a007-9e23-4e4f-8943-e3000cf27efe</td>\n",
              "      <td>1</td>\n",
              "      <td>0</td>\n",
              "      <td>&lt;CONV&gt;b668a007-9e23-4e4f-8943-e3000cf27efe&lt;TUR...</td>\n",
              "      <td>good evening sir</td>\n",
              "      <td>O O O</td>\n",
              "      <td>openinggreeting</td>\n",
              "    </tr>\n",
              "    <tr>\n",
              "      <th>1</th>\n",
              "      <td>b668a007-9e23-4e4f-8943-e3000cf27efe</td>\n",
              "      <td>1</td>\n",
              "      <td>1</td>\n",
              "      <td>&lt;CONV&gt;b668a007-9e23-4e4f-8943-e3000cf27efe&lt;TUR...</td>\n",
              "      <td>i need your help</td>\n",
              "      <td>O O O O</td>\n",
              "      <td>outofdomain</td>\n",
              "    </tr>\n",
              "    <tr>\n",
              "      <th>2</th>\n",
              "      <td>b668a007-9e23-4e4f-8943-e3000cf27efe</td>\n",
              "      <td>3</td>\n",
              "      <td>0</td>\n",
              "      <td>&lt;CONV&gt;b668a007-9e23-4e4f-8943-e3000cf27efe&lt;TUR...</td>\n",
              "      <td>4523</td>\n",
              "      <td>ssn</td>\n",
              "      <td>contentonly</td>\n",
              "    </tr>\n",
              "    <tr>\n",
              "      <th>3</th>\n",
              "      <td>b668a007-9e23-4e4f-8943-e3000cf27efe</td>\n",
              "      <td>4</td>\n",
              "      <td>0</td>\n",
              "      <td>&lt;CONV&gt;b668a007-9e23-4e4f-8943-e3000cf27efe&lt;TUR...</td>\n",
              "      <td>tamilarasi k</td>\n",
              "      <td>name name</td>\n",
              "      <td>contentonly</td>\n",
              "    </tr>\n",
              "    <tr>\n",
              "      <th>4</th>\n",
              "      <td>b668a007-9e23-4e4f-8943-e3000cf27efe</td>\n",
              "      <td>6</td>\n",
              "      <td>0</td>\n",
              "      <td>&lt;CONV&gt;b668a007-9e23-4e4f-8943-e3000cf27efe&lt;TUR...</td>\n",
              "      <td>honda city</td>\n",
              "      <td>car_brand O</td>\n",
              "      <td>contentonly</td>\n",
              "    </tr>\n",
              "  </tbody>\n",
              "</table>\n",
              "</div>"
            ],
            "text/plain": [
              "                         conversationId  ...           intent\n",
              "0  b668a007-9e23-4e4f-8943-e3000cf27efe  ...  openinggreeting\n",
              "1  b668a007-9e23-4e4f-8943-e3000cf27efe  ...      outofdomain\n",
              "2  b668a007-9e23-4e4f-8943-e3000cf27efe  ...      contentonly\n",
              "3  b668a007-9e23-4e4f-8943-e3000cf27efe  ...      contentonly\n",
              "4  b668a007-9e23-4e4f-8943-e3000cf27efe  ...      contentonly\n",
              "\n",
              "[5 rows x 7 columns]"
            ]
          },
          "metadata": {},
          "execution_count": 2
        }
      ]
    },
    {
      "cell_type": "code",
      "metadata": {
        "id": "lyV_XP9QLkt-"
      },
      "source": [
        "def normalize_dataset(df):\n",
        "  useless = df[df.intent.str.contains('<div>')].index\n",
        "  df = df.drop(useless)\n",
        "  df['freq'] = (\n",
        "      df.groupby('intent')['intent'].transform('count') \\\n",
        "      / df.value_counts().sum()\n",
        "  )**-1\n",
        "  intents = np.unique(df['intent'])\n",
        "  sample_size = min(df['intent'].value_counts(normalize=True))*len(intents)*2\n",
        "  return df.sample(frac=sample_size, weights=df['freq'], replace=True)"
      ],
      "execution_count": 3,
      "outputs": []
    },
    {
      "cell_type": "code",
      "metadata": {
        "colab": {
          "base_uri": "https://localhost:8080/"
        },
        "id": "05mWwJxpQdkv",
        "outputId": "5bfd482d-2c2a-45be-eee9-b1355ba9d777"
      },
      "source": [
        "print(train_dataset['intent'].value_counts())"
      ],
      "execution_count": 4,
      "outputs": [
        {
          "output_type": "stream",
          "text": [
            "contentonly                                 7841\n",
            "confirmation                                3170\n",
            "openinggreeting                             2129\n",
            "thankyou                                    1984\n",
            "rejection                                   1323\n",
            "getproofofinsurance                         1292\n",
            "outofdomain                                 1242\n",
            "checkclaimstatus                             621\n",
            "closinggreeting                              606\n",
            "reportbrokenphone                            435\n",
            "checkclaimstatus<div>getproofofinsurance       1\n",
            "Name: intent, dtype: int64\n"
          ],
          "name": "stdout"
        }
      ]
    },
    {
      "cell_type": "code",
      "metadata": {
        "colab": {
          "base_uri": "https://localhost:8080/"
        },
        "id": "CAZZvWclO01Z",
        "outputId": "fc8fca7c-5c2d-44cd-a3db-5897c2debfb2"
      },
      "source": [
        "train_dataset = normalize_dataset(train_dataset)"
      ],
      "execution_count": 5,
      "outputs": [
        {
          "output_type": "stream",
          "text": [
            "/usr/local/lib/python3.7/dist-packages/ipykernel_launcher.py:7: SettingWithCopyWarning: \n",
            "A value is trying to be set on a copy of a slice from a DataFrame.\n",
            "Try using .loc[row_indexer,col_indexer] = value instead\n",
            "\n",
            "See the caveats in the documentation: https://pandas.pydata.org/pandas-docs/stable/user_guide/indexing.html#returning-a-view-versus-a-copy\n",
            "  import sys\n"
          ],
          "name": "stderr"
        }
      ]
    },
    {
      "cell_type": "code",
      "metadata": {
        "colab": {
          "base_uri": "https://localhost:8080/"
        },
        "id": "aVYt9z0WL2QG",
        "outputId": "3d65fb61-1866-4ba7-8ae9-5e18a235af67"
      },
      "source": [
        "print(train_dataset['intent'].value_counts())"
      ],
      "execution_count": 6,
      "outputs": [
        {
          "output_type": "stream",
          "text": [
            "thankyou               948\n",
            "confirmation           902\n",
            "rejection              879\n",
            "outofdomain            868\n",
            "getproofofinsurance    868\n",
            "reportbrokenphone      864\n",
            "closinggreeting        846\n",
            "contentonly            838\n",
            "openinggreeting        835\n",
            "checkclaimstatus       832\n",
            "Name: intent, dtype: int64\n"
          ],
          "name": "stdout"
        }
      ]
    },
    {
      "cell_type": "markdown",
      "metadata": {
        "id": "iJ9xPp6VMDdc"
      },
      "source": [
        "# Data sampling"
      ]
    },
    {
      "cell_type": "code",
      "metadata": {
        "id": "JlfQwZljmKxw"
      },
      "source": [
        "from sklearn.model_selection import train_test_split"
      ],
      "execution_count": 7,
      "outputs": []
    },
    {
      "cell_type": "code",
      "metadata": {
        "id": "BEn9cZuKUzpP"
      },
      "source": [
        "x = list(train_dataset['utterance'])\n",
        "for i, sentence in enumerate(x):\n",
        "  if isinstance(sentence, float):\n",
        "    x[i] = ''\n",
        "y = list(train_dataset['intent'])\n",
        "\n",
        "train_x, test_x, train_y, test_y = train_test_split(x, y, test_size=0.3)"
      ],
      "execution_count": 8,
      "outputs": []
    },
    {
      "cell_type": "code",
      "metadata": {
        "id": "yfw2Sw62mJHZ"
      },
      "source": [
        "from tensorflow.keras.preprocessing.text import Tokenizer\n",
        "from tensorflow.keras.preprocessing.sequence import pad_sequences"
      ],
      "execution_count": 9,
      "outputs": []
    },
    {
      "cell_type": "code",
      "metadata": {
        "id": "3zlz13yQU7Dt"
      },
      "source": [
        "classes = np.unique(y)\n",
        "tokenizer = Tokenizer(oov_token='<unk>')\n",
        "\n",
        "tokenizer.fit_on_texts(train_x)\n",
        "word_index = tokenizer.word_index\n",
        "\n",
        "biggest_sequence = max(train_x, key=lambda x: x.split(' ').__len__())\n",
        "max_len = len(biggest_sequence.split(' '))\n",
        "\n",
        "train_sequences = tokenizer.texts_to_sequences(train_x)\n",
        "train_sequences = pad_sequences(train_sequences, maxlen=max_len, padding='post')\n",
        "\n",
        "test_sequences = tokenizer.texts_to_sequences(test_x)\n",
        "test_sequences = pad_sequences(test_sequences, maxlen=max_len, padding='post')"
      ],
      "execution_count": 10,
      "outputs": []
    },
    {
      "cell_type": "code",
      "metadata": {
        "id": "v6etwuwwmHbi"
      },
      "source": [
        "from sklearn.preprocessing import OneHotEncoder, LabelEncoder"
      ],
      "execution_count": 11,
      "outputs": []
    },
    {
      "cell_type": "code",
      "metadata": {
        "id": "IuZQc2SDWRAx"
      },
      "source": [
        "label_encoder = LabelEncoder()\n",
        "integer_encoded = label_encoder.fit_transform(classes)\n",
        "\n",
        "onehot_encoder = OneHotEncoder(sparse=False)\n",
        "\n",
        "integer_encoded = integer_encoded.reshape(len(integer_encoded), 1)\n",
        "onehot_encoder.fit(integer_encoded)\n",
        "\n",
        "# Transforma em números\n",
        "train_labels = label_encoder.transform(train_y)\n",
        "# Transforma a matriz linha em matriz coluna\n",
        "train_labels = train_labels.reshape(len(train_labels), 1)\n",
        "# Transforma cada valor em one-hot\n",
        "train_labels = onehot_encoder.transform(train_labels)\n",
        "\n",
        "test_labels = label_encoder.transform(test_y)\n",
        "test_labels = test_labels.reshape(len(test_labels), 1)\n",
        "test_labels = onehot_encoder.transform(test_labels)"
      ],
      "execution_count": 12,
      "outputs": []
    },
    {
      "cell_type": "code",
      "metadata": {
        "id": "8HVr-7TkmF9q"
      },
      "source": [
        "import spacy"
      ],
      "execution_count": 13,
      "outputs": []
    },
    {
      "cell_type": "code",
      "metadata": {
        "id": "-I332Qx4Y_hM"
      },
      "source": [
        "nlp = spacy.load('en_core_web_sm')\n",
        "\n",
        "vocab = [''] + list(tokenizer.word_index.keys())\n",
        "num_tokens = len(vocab)\n",
        "vec_dim = len(nlp('the').vector)\n",
        "\n",
        "embedding_table = np.zeros((num_tokens, vec_dim))\n",
        "\n",
        "\n",
        "for i, word in enumerate(vocab[1:]):\n",
        "  embedding_table[i+1] = nlp(word).vector"
      ],
      "execution_count": 14,
      "outputs": []
    },
    {
      "cell_type": "markdown",
      "metadata": {
        "id": "8DZ8HOo6MJuo"
      },
      "source": [
        "# Intent Classifier\n",
        "\n",
        "<!-- https://medium.com/analytics-vidhya/creating-your-own-intent-classifier-b86e000a4926 -->"
      ]
    },
    {
      "cell_type": "code",
      "metadata": {
        "id": "K-BO7iYZlpeK"
      },
      "source": [
        "from tensorflow.keras.models import Sequential\n",
        "from tensorflow.keras.layers import Dense, Input, Dropout, LSTM, Activation, \\\n",
        "Bidirectional, Embedding\n",
        "from tensorflow.keras.initializers import Constant"
      ],
      "execution_count": 15,
      "outputs": []
    },
    {
      "cell_type": "code",
      "metadata": {
        "colab": {
          "base_uri": "https://localhost:8080/"
        },
        "id": "xkzhvV9xtdKI",
        "outputId": "8de12e05-186d-43ba-9ea7-da55c11d1462"
      },
      "source": [
        "model = Sequential()\n",
        "\n",
        "model.add(\n",
        "    Embedding(num_tokens, vec_dim, Constant(embedding_table), trainable=False)\n",
        ")\n",
        "model.add(\n",
        "    Bidirectional(\n",
        "        LSTM(256, return_sequences=True, recurrent_dropout=0.1, dropout=0.1)\n",
        "    )\n",
        ")\n",
        "model.add(Dropout(0.3))\n",
        "model.add(\n",
        "    LSTM(256, return_sequences=False, recurrent_dropout=0.1, dropout=0.1)\n",
        ")\n",
        "model.add(Dropout(0.3))\n",
        "model.add(Dense(50, 'relu'))\n",
        "model.add(Dense(classes.shape[0], 'softmax'))\n",
        "\n",
        "model.summary()"
      ],
      "execution_count": 16,
      "outputs": [
        {
          "output_type": "stream",
          "text": [
            "Model: \"sequential\"\n",
            "_________________________________________________________________\n",
            "Layer (type)                 Output Shape              Param #   \n",
            "=================================================================\n",
            "embedding (Embedding)        (None, None, 96)          131616    \n",
            "_________________________________________________________________\n",
            "bidirectional (Bidirectional (None, None, 512)         722944    \n",
            "_________________________________________________________________\n",
            "dropout (Dropout)            (None, None, 512)         0         \n",
            "_________________________________________________________________\n",
            "lstm_1 (LSTM)                (None, 256)               787456    \n",
            "_________________________________________________________________\n",
            "dropout_1 (Dropout)          (None, 256)               0         \n",
            "_________________________________________________________________\n",
            "dense (Dense)                (None, 50)                12850     \n",
            "_________________________________________________________________\n",
            "dense_1 (Dense)              (None, 10)                510       \n",
            "=================================================================\n",
            "Total params: 1,655,376\n",
            "Trainable params: 1,523,760\n",
            "Non-trainable params: 131,616\n",
            "_________________________________________________________________\n"
          ],
          "name": "stdout"
        }
      ]
    },
    {
      "cell_type": "code",
      "metadata": {
        "id": "5KUGFWt9vX5A"
      },
      "source": [
        "model.compile(\n",
        "    loss='categorical_crossentropy',\n",
        "    optimizer='adam',\n",
        "    metrics=['accuracy', 'Precision', 'Recall']\n",
        ")"
      ],
      "execution_count": 17,
      "outputs": []
    },
    {
      "cell_type": "code",
      "metadata": {
        "id": "UI22aDem9r4z"
      },
      "source": [
        "from tensorflow.keras.callbacks import EarlyStopping"
      ],
      "execution_count": 18,
      "outputs": []
    },
    {
      "cell_type": "code",
      "metadata": {
        "colab": {
          "base_uri": "https://localhost:8080/"
        },
        "id": "6C6RXyS9vq3r",
        "outputId": "8d262c43-0bf2-4aff-a16f-bbd2a800108a"
      },
      "source": [
        "history = model.fit(\n",
        "    train_sequences,\n",
        "    train_labels,\n",
        "    epochs = 100,\n",
        "    batch_size=64,\n",
        "    shuffle=True,\n",
        "    callbacks=[EarlyStopping('loss', patience=5)],\n",
        "    validation_data=[test_sequences, test_labels]\n",
        ")"
      ],
      "execution_count": 19,
      "outputs": [
        {
          "output_type": "stream",
          "text": [
            "Epoch 1/100\n",
            "95/95 [==============================] - 133s 1s/step - loss: 1.2736 - accuracy: 0.5573 - precision: 0.7855 - recall: 0.4093 - val_loss: 0.0000e+00 - val_accuracy: 0.0000e+00 - val_precision: 0.0000e+00 - val_recall: 0.0000e+00\n",
            "Epoch 2/100\n",
            "95/95 [==============================] - 117s 1s/step - loss: 0.6245 - accuracy: 0.8320 - precision: 0.8652 - recall: 0.7913 - val_loss: 0.0000e+00 - val_accuracy: 0.0000e+00 - val_precision: 0.0000e+00 - val_recall: 0.0000e+00\n",
            "Epoch 3/100\n",
            "95/95 [==============================] - 117s 1s/step - loss: 0.4984 - accuracy: 0.8728 - precision: 0.8923 - recall: 0.8537 - val_loss: 0.0000e+00 - val_accuracy: 0.0000e+00 - val_precision: 0.0000e+00 - val_recall: 0.0000e+00\n",
            "Epoch 4/100\n",
            "95/95 [==============================] - 116s 1s/step - loss: 0.5029 - accuracy: 0.8692 - precision: 0.8910 - recall: 0.8527 - val_loss: 0.0000e+00 - val_accuracy: 0.0000e+00 - val_precision: 0.0000e+00 - val_recall: 0.0000e+00\n",
            "Epoch 5/100\n",
            "95/95 [==============================] - 116s 1s/step - loss: 0.3985 - accuracy: 0.8929 - precision: 0.9154 - recall: 0.8794 - val_loss: 0.0000e+00 - val_accuracy: 0.0000e+00 - val_precision: 0.0000e+00 - val_recall: 0.0000e+00\n",
            "Epoch 6/100\n",
            "95/95 [==============================] - 113s 1s/step - loss: 0.3390 - accuracy: 0.9131 - precision: 0.9294 - recall: 0.8989 - val_loss: 0.0000e+00 - val_accuracy: 0.0000e+00 - val_precision: 0.0000e+00 - val_recall: 0.0000e+00\n",
            "Epoch 7/100\n",
            "95/95 [==============================] - 117s 1s/step - loss: 0.3392 - accuracy: 0.9124 - precision: 0.9243 - recall: 0.9022 - val_loss: 0.0000e+00 - val_accuracy: 0.0000e+00 - val_precision: 0.0000e+00 - val_recall: 0.0000e+00\n",
            "Epoch 8/100\n",
            "95/95 [==============================] - 122s 1s/step - loss: 0.3204 - accuracy: 0.9184 - precision: 0.9277 - recall: 0.9105 - val_loss: 0.0000e+00 - val_accuracy: 0.0000e+00 - val_precision: 0.0000e+00 - val_recall: 0.0000e+00\n",
            "Epoch 9/100\n",
            "95/95 [==============================] - 121s 1s/step - loss: 0.3019 - accuracy: 0.9207 - precision: 0.9296 - recall: 0.9100 - val_loss: 0.0000e+00 - val_accuracy: 0.0000e+00 - val_precision: 0.0000e+00 - val_recall: 0.0000e+00\n",
            "Epoch 10/100\n",
            "95/95 [==============================] - 120s 1s/step - loss: 0.2861 - accuracy: 0.9264 - precision: 0.9371 - recall: 0.9192 - val_loss: 0.0000e+00 - val_accuracy: 0.0000e+00 - val_precision: 0.0000e+00 - val_recall: 0.0000e+00\n",
            "Epoch 11/100\n",
            "95/95 [==============================] - 118s 1s/step - loss: 0.2676 - accuracy: 0.9302 - precision: 0.9377 - recall: 0.9240 - val_loss: 0.0000e+00 - val_accuracy: 0.0000e+00 - val_precision: 0.0000e+00 - val_recall: 0.0000e+00\n",
            "Epoch 12/100\n",
            "95/95 [==============================] - 117s 1s/step - loss: 0.2546 - accuracy: 0.9327 - precision: 0.9386 - recall: 0.9264 - val_loss: 0.0000e+00 - val_accuracy: 0.0000e+00 - val_precision: 0.0000e+00 - val_recall: 0.0000e+00\n",
            "Epoch 13/100\n",
            "95/95 [==============================] - 115s 1s/step - loss: 0.2411 - accuracy: 0.9373 - precision: 0.9446 - recall: 0.9309 - val_loss: 0.0000e+00 - val_accuracy: 0.0000e+00 - val_precision: 0.0000e+00 - val_recall: 0.0000e+00\n",
            "Epoch 14/100\n",
            "95/95 [==============================] - 114s 1s/step - loss: 0.2459 - accuracy: 0.9320 - precision: 0.9397 - recall: 0.9261 - val_loss: 0.0000e+00 - val_accuracy: 0.0000e+00 - val_precision: 0.0000e+00 - val_recall: 0.0000e+00\n",
            "Epoch 15/100\n",
            "95/95 [==============================] - 114s 1s/step - loss: 0.2320 - accuracy: 0.9375 - precision: 0.9449 - recall: 0.9335 - val_loss: 0.0000e+00 - val_accuracy: 0.0000e+00 - val_precision: 0.0000e+00 - val_recall: 0.0000e+00\n",
            "Epoch 16/100\n",
            "95/95 [==============================] - 115s 1s/step - loss: 0.2362 - accuracy: 0.9373 - precision: 0.9432 - recall: 0.9294 - val_loss: 0.0000e+00 - val_accuracy: 0.0000e+00 - val_precision: 0.0000e+00 - val_recall: 0.0000e+00\n",
            "Epoch 17/100\n",
            "95/95 [==============================] - 114s 1s/step - loss: 0.2664 - accuracy: 0.9294 - precision: 0.9353 - recall: 0.9238 - val_loss: 0.0000e+00 - val_accuracy: 0.0000e+00 - val_precision: 0.0000e+00 - val_recall: 0.0000e+00\n",
            "Epoch 18/100\n",
            "95/95 [==============================] - 117s 1s/step - loss: 0.2571 - accuracy: 0.9289 - precision: 0.9380 - recall: 0.9215 - val_loss: 0.0000e+00 - val_accuracy: 0.0000e+00 - val_precision: 0.0000e+00 - val_recall: 0.0000e+00\n",
            "Epoch 19/100\n",
            "95/95 [==============================] - 116s 1s/step - loss: 0.2506 - accuracy: 0.9309 - precision: 0.9377 - recall: 0.9264 - val_loss: 0.0000e+00 - val_accuracy: 0.0000e+00 - val_precision: 0.0000e+00 - val_recall: 0.0000e+00\n",
            "Epoch 20/100\n",
            "95/95 [==============================] - 114s 1s/step - loss: 0.2203 - accuracy: 0.9391 - precision: 0.9452 - recall: 0.9315 - val_loss: 0.0000e+00 - val_accuracy: 0.0000e+00 - val_precision: 0.0000e+00 - val_recall: 0.0000e+00\n",
            "Epoch 21/100\n",
            "95/95 [==============================] - 113s 1s/step - loss: 0.2165 - accuracy: 0.9419 - precision: 0.9481 - recall: 0.9381 - val_loss: 0.0000e+00 - val_accuracy: 0.0000e+00 - val_precision: 0.0000e+00 - val_recall: 0.0000e+00\n",
            "Epoch 22/100\n",
            "95/95 [==============================] - 113s 1s/step - loss: 0.2019 - accuracy: 0.9465 - precision: 0.9508 - recall: 0.9419 - val_loss: 0.0000e+00 - val_accuracy: 0.0000e+00 - val_precision: 0.0000e+00 - val_recall: 0.0000e+00\n",
            "Epoch 23/100\n",
            "95/95 [==============================] - 113s 1s/step - loss: 0.1937 - accuracy: 0.9473 - precision: 0.9506 - recall: 0.9442 - val_loss: 0.0000e+00 - val_accuracy: 0.0000e+00 - val_precision: 0.0000e+00 - val_recall: 0.0000e+00\n",
            "Epoch 24/100\n",
            "95/95 [==============================] - 115s 1s/step - loss: 0.1971 - accuracy: 0.9452 - precision: 0.9493 - recall: 0.9408 - val_loss: 0.0000e+00 - val_accuracy: 0.0000e+00 - val_precision: 0.0000e+00 - val_recall: 0.0000e+00\n",
            "Epoch 25/100\n",
            "95/95 [==============================] - 114s 1s/step - loss: 0.2124 - accuracy: 0.9398 - precision: 0.9455 - recall: 0.9363 - val_loss: 0.0000e+00 - val_accuracy: 0.0000e+00 - val_precision: 0.0000e+00 - val_recall: 0.0000e+00\n",
            "Epoch 26/100\n",
            "95/95 [==============================] - 113s 1s/step - loss: 0.1987 - accuracy: 0.9472 - precision: 0.9510 - recall: 0.9421 - val_loss: 0.0000e+00 - val_accuracy: 0.0000e+00 - val_precision: 0.0000e+00 - val_recall: 0.0000e+00\n",
            "Epoch 27/100\n",
            "95/95 [==============================] - 114s 1s/step - loss: 0.1973 - accuracy: 0.9452 - precision: 0.9497 - recall: 0.9411 - val_loss: 0.0000e+00 - val_accuracy: 0.0000e+00 - val_precision: 0.0000e+00 - val_recall: 0.0000e+00\n",
            "Epoch 28/100\n",
            "95/95 [==============================] - 112s 1s/step - loss: 0.1764 - accuracy: 0.9482 - precision: 0.9538 - recall: 0.9444 - val_loss: 0.0000e+00 - val_accuracy: 0.0000e+00 - val_precision: 0.0000e+00 - val_recall: 0.0000e+00\n",
            "Epoch 29/100\n",
            "95/95 [==============================] - 112s 1s/step - loss: 0.1767 - accuracy: 0.9495 - precision: 0.9528 - recall: 0.9467 - val_loss: 0.0000e+00 - val_accuracy: 0.0000e+00 - val_precision: 0.0000e+00 - val_recall: 0.0000e+00\n",
            "Epoch 30/100\n",
            "95/95 [==============================] - 113s 1s/step - loss: 0.1755 - accuracy: 0.9518 - precision: 0.9551 - recall: 0.9485 - val_loss: 0.0000e+00 - val_accuracy: 0.0000e+00 - val_precision: 0.0000e+00 - val_recall: 0.0000e+00\n",
            "Epoch 31/100\n",
            "95/95 [==============================] - 113s 1s/step - loss: 0.1683 - accuracy: 0.9500 - precision: 0.9541 - recall: 0.9467 - val_loss: 0.0000e+00 - val_accuracy: 0.0000e+00 - val_precision: 0.0000e+00 - val_recall: 0.0000e+00\n",
            "Epoch 32/100\n",
            "95/95 [==============================] - 114s 1s/step - loss: 0.1625 - accuracy: 0.9521 - precision: 0.9550 - recall: 0.9503 - val_loss: 0.0000e+00 - val_accuracy: 0.0000e+00 - val_precision: 0.0000e+00 - val_recall: 0.0000e+00\n",
            "Epoch 33/100\n",
            "95/95 [==============================] - 115s 1s/step - loss: 0.1524 - accuracy: 0.9557 - precision: 0.9582 - recall: 0.9534 - val_loss: 0.0000e+00 - val_accuracy: 0.0000e+00 - val_precision: 0.0000e+00 - val_recall: 0.0000e+00\n",
            "Epoch 34/100\n",
            "95/95 [==============================] - 116s 1s/step - loss: 0.1714 - accuracy: 0.9485 - precision: 0.9520 - recall: 0.9462 - val_loss: 0.0000e+00 - val_accuracy: 0.0000e+00 - val_precision: 0.0000e+00 - val_recall: 0.0000e+00\n",
            "Epoch 35/100\n",
            "95/95 [==============================] - 117s 1s/step - loss: 0.1623 - accuracy: 0.9534 - precision: 0.9564 - recall: 0.9506 - val_loss: 0.0000e+00 - val_accuracy: 0.0000e+00 - val_precision: 0.0000e+00 - val_recall: 0.0000e+00\n",
            "Epoch 36/100\n",
            "95/95 [==============================] - 113s 1s/step - loss: 0.1645 - accuracy: 0.9516 - precision: 0.9561 - recall: 0.9500 - val_loss: 0.0000e+00 - val_accuracy: 0.0000e+00 - val_precision: 0.0000e+00 - val_recall: 0.0000e+00\n",
            "Epoch 37/100\n",
            "95/95 [==============================] - 112s 1s/step - loss: 0.1576 - accuracy: 0.9542 - precision: 0.9573 - recall: 0.9524 - val_loss: 0.0000e+00 - val_accuracy: 0.0000e+00 - val_precision: 0.0000e+00 - val_recall: 0.0000e+00\n",
            "Epoch 38/100\n",
            "95/95 [==============================] - 114s 1s/step - loss: 0.1569 - accuracy: 0.9526 - precision: 0.9558 - recall: 0.9501 - val_loss: 0.0000e+00 - val_accuracy: 0.0000e+00 - val_precision: 0.0000e+00 - val_recall: 0.0000e+00\n"
          ],
          "name": "stdout"
        }
      ]
    },
    {
      "cell_type": "code",
      "metadata": {
        "id": "PObL4e480AJ4"
      },
      "source": [
        "import matplotlib.pyplot as plt\n",
        "%matplotlib inline"
      ],
      "execution_count": 20,
      "outputs": []
    },
    {
      "cell_type": "code",
      "metadata": {
        "id": "wJA2Ohg38Iag",
        "colab": {
          "base_uri": "https://localhost:8080/",
          "height": 297
        },
        "outputId": "d753ecfa-27d5-4600-b979-3fedf191c61f"
      },
      "source": [
        "plt.plot(history.history['accuracy'])\n",
        "plt.plot(history.history['precision'])\n",
        "plt.plot(history.history['recall'])\n",
        "plt.title('Gráfico do Conjunto de treinamento')\n",
        "plt.xlabel('Épocas')\n",
        "plt.legend(['Acurácia', 'Precisão', 'Recall'], loc='upper left')\n",
        "plt.show()"
      ],
      "execution_count": 21,
      "outputs": [
        {
          "output_type": "display_data",
          "data": {
            "image/png": "[encoded data removed]",
            "text/plain": [
              "<Figure size 432x288 with 1 Axes>"
            ]
          },
          "metadata": {
            "needs_background": "light"
          }
        }
      ]
    },
    {
      "cell_type": "code",
      "metadata": {
        "colab": {
          "base_uri": "https://localhost:8080/",
          "height": 297
        },
        "id": "TfliFWNeHauW",
        "outputId": "47c41659-b0b1-464b-f618-46793d5c4bb5"
      },
      "source": [
        "plt.plot(history.history['loss'])\n",
        "plt.title(\"Gráfico de perda\")\n",
        "plt.xlabel('Épocas')\n",
        "plt.ylabel('Perda')\n",
        "plt.show()"
      ],
      "execution_count": 22,
      "outputs": [
        {
          "output_type": "display_data",
          "data": {
            "image/png": "[encoded data removed]",
            "text/plain": [
              "<Figure size 432x288 with 1 Axes>"
            ]
          },
          "metadata": {
            "needs_background": "light"
          }
        }
      ]
    },
    {
      "cell_type": "code",
      "metadata": {
        "id": "PEUDSUZF1JSd"
      },
      "source": [
        "from sklearn.metrics import classification_report"
      ],
      "execution_count": 23,
      "outputs": []
    },
    {
      "cell_type": "code",
      "metadata": {
        "id": "G1IN8fRH1PLj"
      },
      "source": [
        "pred_y = model.predict(test_sequences)"
      ],
      "execution_count": 24,
      "outputs": []
    },
    {
      "cell_type": "code",
      "metadata": {
        "colab": {
          "base_uri": "https://localhost:8080/"
        },
        "id": "as7fG_JC2VYg",
        "outputId": "5950588c-3e32-4903-ae2f-de3b24699470"
      },
      "source": [
        "print(classification_report(np.argmax(test_labels, 1), np.argmax(pred_y, 1)))"
      ],
      "execution_count": 25,
      "outputs": [
        {
          "output_type": "stream",
          "text": [
            "              precision    recall  f1-score   support\n",
            "\n",
            "           0       0.97      0.95      0.96       222\n",
            "           1       0.94      0.97      0.95       260\n",
            "           2       0.90      0.92      0.91       260\n",
            "           3       0.98      0.73      0.84       264\n",
            "           4       1.00      0.95      0.97       264\n",
            "           5       0.97      0.99      0.98       241\n",
            "           6       0.70      0.82      0.76       251\n",
            "           7       0.86      0.95      0.90       278\n",
            "           8       0.95      0.95      0.95       272\n",
            "           9       0.93      0.90      0.92       292\n",
            "\n",
            "    accuracy                           0.91      2604\n",
            "   macro avg       0.92      0.91      0.91      2604\n",
            "weighted avg       0.92      0.91      0.91      2604\n",
            "\n"
          ],
          "name": "stdout"
        }
      ]
    },
    {
      "cell_type": "code",
      "metadata": {
        "colab": {
          "base_uri": "https://localhost:8080/"
        },
        "id": "rZkuSP_H2omE",
        "outputId": "b02b3eb3-49c2-43c3-f78a-d1086c33835e"
      },
      "source": [
        "i = np.random.randint(0, len(pred_y)-1)\n",
        "\n",
        "print(tokenizer.sequences_to_texts([test_sequences[i]]))\n",
        "print(np.argmax(pred_y[i], -1), np.argmax(test_labels[i], -1))\n",
        "if np.argmax(pred_y[i], -1) == np.argmax(test_labels[i], -1):\n",
        "  print(label_encoder.inverse_transform([np.argmax(pred_y[i], -1)]))"
      ],
      "execution_count": 26,
      "outputs": [
        {
          "output_type": "stream",
          "text": [
            "['hey there <unk> <unk> <unk> <unk> <unk> <unk> <unk> <unk> <unk> <unk> <unk> <unk> <unk> <unk> <unk> <unk> <unk> <unk> <unk> <unk> <unk> <unk> <unk> <unk> <unk> <unk>']\n",
            "5 5\n",
            "['openinggreeting']\n"
          ],
          "name": "stdout"
        }
      ]
    },
    {
      "cell_type": "code",
      "metadata": {
        "id": "3wHIm71AIiJu"
      },
      "source": [
        "import datetime\n",
        "import pickle\n",
        "import os\n",
        "import pytz\n",
        "from google.colab import drive"
      ],
      "execution_count": 27,
      "outputs": []
    },
    {
      "cell_type": "code",
      "metadata": {
        "colab": {
          "base_uri": "https://localhost:8080/"
        },
        "id": "Uc3iFWRJJDEL",
        "outputId": "688a9647-5928-4cc1-a305-474fc2963234"
      },
      "source": [
        "drive.mount('/content/drive')"
      ],
      "execution_count": 28,
      "outputs": [
        {
          "output_type": "stream",
          "text": [
            "Mounted at /content/drive\n"
          ],
          "name": "stdout"
        }
      ]
    },
    {
      "cell_type": "code",
      "metadata": {
        "colab": {
          "base_uri": "https://localhost:8080/"
        },
        "id": "AZM5hETfJKA_",
        "outputId": "ac5b4729-c4e4-4b04-d890-90d602e8b8bd"
      },
      "source": [
        "proj_directory = '/content/drive/MyDrive/chatbot/'\n",
        "if not os.path.exists(proj_directory):\n",
        "  os.mkdir(proj_directory)\n",
        "\n",
        "model_file = proj_directory + 'intent_classifier'\n",
        "tokenizer_file = proj_directory + 'tokenizer_intent.pickle'\n",
        "classes_file = proj_directory + 'classes.pickle'\n",
        "label_encoder_file = proj_directory + 'label_encoder.pickle'\n",
        "\n",
        "model.save(model_file)\n",
        "with open(tokenizer_file, 'wb') as _file:\n",
        "  pickle.dump(tokenizer, _file)\n",
        "\n",
        "with open(classes_file, 'wb') as _file:\n",
        "  pickle.dump(classes, _file)\n",
        "\n",
        "with open(label_encoder_file, 'wb') as _file:\n",
        "  pickle.dump(label_encoder, _file)\n",
        "\n",
        "timestamp = datetime.datetime.now(pytz.timezone('America/Recife'))\n",
        "print(\"Last compiled time:\", timestamp)"
      ],
      "execution_count": 29,
      "outputs": [
        {
          "output_type": "stream",
          "text": [
            "INFO:tensorflow:Assets written to: /content/drive/MyDrive/chatbot/intent_classifier/assets\n",
            "Last compiled time: 2021-08-22 18:48:25.312866-03:00\n"
          ],
          "name": "stdout"
        }
      ]
    },
    {
      "cell_type": "markdown",
      "metadata": {
        "id": "Q82PubvV3usm"
      },
      "source": [
        "* Current best model: 'model_1629590199'"
      ]
    },
    {
      "cell_type": "code",
      "metadata": {
        "id": "FdmvUBh59eYV"
      },
      "source": [
        "class IntentClassifier(object):\n",
        "  def __init__(self, classes, model, **kwargs):\n",
        "    self.classes = classes\n",
        "    self.classifier = model\n",
        "    self.tokenizer = kwargs.get('tokenizer')\n",
        "    self.label_encoder = kwargs.get('label_encoder')\n",
        "    self.max_len = kwargs.get('max_len', 28)\n",
        "  \n",
        "  def __call__(self, text: str):\n",
        "    sequence = self.tokenizer.texts_to_sequences([text])\n",
        "    sequence = pad_sequences(sequence, maxlen=self.max_len, padding='post')\n",
        "    pred = self.classifier(sequence)\n",
        "    return self.label_encoder.inverse_transform(np.argmax(pred, 1))[0]"
      ],
      "execution_count": 30,
      "outputs": []
    }
  ]
}